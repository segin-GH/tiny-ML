{
  "nbformat": 4,
  "nbformat_minor": 0,
  "metadata": {
    "colab": {
      "provenance": [],
      "authorship_tag": "ABX9TyOAhZumy7LOYTr1m25WBGCJ",
      "include_colab_link": true
    },
    "kernelspec": {
      "name": "python3",
      "display_name": "Python 3"
    },
    "language_info": {
      "name": "python"
    }
  },
  "cells": [
    {
      "cell_type": "markdown",
      "metadata": {
        "id": "view-in-github",
        "colab_type": "text"
      },
      "source": [
        "<a href=\"https://colab.research.google.com/github/segin-GH/tiny-ML/blob/main/imageClassification.ipynb\" target=\"_parent\"><img src=\"https://colab.research.google.com/assets/colab-badge.svg\" alt=\"Open In Colab\"/></a>"
      ]
    },
    {
      "cell_type": "code",
      "execution_count": 81,
      "metadata": {
        "id": "HXjSkTDy7ZTO"
      },
      "outputs": [],
      "source": [
        "import tensorflow as tf\n",
        "import matplotlib.pyplot as plt\n",
        "from time import sleep\n",
        "import numpy as np"
      ]
    },
    {
      "cell_type": "code",
      "source": [
        "data = tf.keras.datasets.mnist\n",
        "(training_images, training_labels),(val_images, val_labels) = data.load_data() "
      ],
      "metadata": {
        "id": "K6DQa9U18PPs"
      },
      "execution_count": 68,
      "outputs": []
    },
    {
      "cell_type": "code",
      "source": [
        "# the handwriting images are 28 x 28 monochrome which means each pixel \n",
        "#   value is 0 tp 255 we want to reduce that so we divide each pixel with 225/\n",
        "\n",
        "training_images = training_images/255.0\n",
        "val_images = val_images/225.0"
      ],
      "metadata": {
        "id": "uxvOaBcKBRGl"
      },
      "execution_count": 69,
      "outputs": []
    },
    {
      "cell_type": "code",
      "source": [
        "# Just visualizing dataset out of curiosity\n",
        "\n",
        "# for i in range(10):\n",
        "  # print(training_labels[i])\n",
        "  # plt.imshow(training_images[i], cmap='gray')\n",
        "  # plt.show()\n",
        "  # sleep(.1)"
      ],
      "metadata": {
        "id": "iKxgkUDD_hkm"
      },
      "execution_count": 70,
      "outputs": []
    },
    {
      "cell_type": "code",
      "source": [
        "from keras.api._v2.keras import activations\n",
        "model = tf.keras.models.Sequential(\n",
        "    [tf.keras.layers.Flatten(input_shape=(28,28)), # Flattens the input image to 28 * 28= 784 * 1\n",
        "     tf.keras.layers.Dense(20, activation=tf.nn.relu), \n",
        "     tf.keras.layers.Dense(10, activation=tf.nn.softmax )])"
      ],
      "metadata": {
        "id": "yqVf8XUTGRJv"
      },
      "execution_count": 71,
      "outputs": []
    },
    {
      "cell_type": "code",
      "source": [
        "model.compile(\n",
        "    optimizer='adam',\n",
        "    loss='sparse_categorical_crossentropy',\n",
        "    metrics=['accuracy'])\n",
        "\n",
        "model.fit(training_images, training_labels, epochs=20, validation_data=(val_images, val_labels))\n"
      ],
      "metadata": {
        "colab": {
          "base_uri": "https://localhost:8080/"
        },
        "id": "6ZpnF7C1IGa9",
        "outputId": "fe6521b8-0f5f-4044-84f1-f2ec5d5a7424"
      },
      "execution_count": 88,
      "outputs": [
        {
          "output_type": "stream",
          "name": "stdout",
          "text": [
            "Epoch 1/20\n",
            "1875/1875 [==============================] - 5s 2ms/step - loss: 0.0816 - accuracy: 0.9754 - val_loss: 0.1483 - val_accuracy: 0.9623\n",
            "Epoch 2/20\n",
            "1875/1875 [==============================] - 4s 2ms/step - loss: 0.0798 - accuracy: 0.9761 - val_loss: 0.1465 - val_accuracy: 0.9622\n",
            "Epoch 3/20\n",
            "1875/1875 [==============================] - 5s 2ms/step - loss: 0.0768 - accuracy: 0.9773 - val_loss: 0.1522 - val_accuracy: 0.9629\n",
            "Epoch 4/20\n",
            "1875/1875 [==============================] - 4s 2ms/step - loss: 0.0756 - accuracy: 0.9774 - val_loss: 0.1487 - val_accuracy: 0.9623\n",
            "Epoch 5/20\n",
            "1875/1875 [==============================] - 4s 2ms/step - loss: 0.0739 - accuracy: 0.9782 - val_loss: 0.1579 - val_accuracy: 0.9632\n",
            "Epoch 6/20\n",
            "1875/1875 [==============================] - 5s 3ms/step - loss: 0.0725 - accuracy: 0.9782 - val_loss: 0.1546 - val_accuracy: 0.9618\n",
            "Epoch 7/20\n",
            "1875/1875 [==============================] - 4s 2ms/step - loss: 0.0703 - accuracy: 0.9792 - val_loss: 0.1602 - val_accuracy: 0.9616\n",
            "Epoch 8/20\n",
            "1875/1875 [==============================] - 4s 2ms/step - loss: 0.0695 - accuracy: 0.9795 - val_loss: 0.1621 - val_accuracy: 0.9584\n",
            "Epoch 9/20\n",
            "1875/1875 [==============================] - 5s 3ms/step - loss: 0.0681 - accuracy: 0.9791 - val_loss: 0.1584 - val_accuracy: 0.9617\n",
            "Epoch 10/20\n",
            "1875/1875 [==============================] - 4s 2ms/step - loss: 0.0665 - accuracy: 0.9803 - val_loss: 0.1532 - val_accuracy: 0.9636\n",
            "Epoch 11/20\n",
            "1875/1875 [==============================] - 4s 2ms/step - loss: 0.0649 - accuracy: 0.9799 - val_loss: 0.1566 - val_accuracy: 0.9634\n",
            "Epoch 12/20\n",
            "1875/1875 [==============================] - 6s 3ms/step - loss: 0.0633 - accuracy: 0.9807 - val_loss: 0.1643 - val_accuracy: 0.9616\n",
            "Epoch 13/20\n",
            "1875/1875 [==============================] - 4s 2ms/step - loss: 0.0622 - accuracy: 0.9815 - val_loss: 0.1583 - val_accuracy: 0.9633\n",
            "Epoch 14/20\n",
            "1875/1875 [==============================] - 5s 2ms/step - loss: 0.0610 - accuracy: 0.9817 - val_loss: 0.1736 - val_accuracy: 0.9592\n",
            "Epoch 15/20\n",
            "1875/1875 [==============================] - 4s 2ms/step - loss: 0.0604 - accuracy: 0.9818 - val_loss: 0.1625 - val_accuracy: 0.9625\n",
            "Epoch 16/20\n",
            "1875/1875 [==============================] - 4s 2ms/step - loss: 0.0594 - accuracy: 0.9817 - val_loss: 0.1688 - val_accuracy: 0.9624\n",
            "Epoch 17/20\n",
            "1875/1875 [==============================] - 5s 2ms/step - loss: 0.0580 - accuracy: 0.9826 - val_loss: 0.1794 - val_accuracy: 0.9601\n",
            "Epoch 18/20\n",
            "1875/1875 [==============================] - 4s 2ms/step - loss: 0.0577 - accuracy: 0.9822 - val_loss: 0.1701 - val_accuracy: 0.9632\n",
            "Epoch 19/20\n",
            "1875/1875 [==============================] - 4s 2ms/step - loss: 0.0558 - accuracy: 0.9829 - val_loss: 0.1767 - val_accuracy: 0.9612\n",
            "Epoch 20/20\n",
            "1875/1875 [==============================] - 5s 2ms/step - loss: 0.0548 - accuracy: 0.9834 - val_loss: 0.1723 - val_accuracy: 0.9604\n"
          ]
        },
        {
          "output_type": "execute_result",
          "data": {
            "text/plain": [
              "<keras.callbacks.History at 0x7f116ccbd060>"
            ]
          },
          "metadata": {},
          "execution_count": 88
        }
      ]
    },
    {
      "cell_type": "code",
      "source": [
        "val = 2\n",
        "plt.imshow(val_images[val], cmap='gray')\n",
        "plt.show()\n",
        "classification = model.predict(val_images)\n",
        "print(classification[val]) \n"
      ],
      "metadata": {
        "id": "EDlDvz-8Mtht",
        "outputId": "73b7ee83-8d2b-45aa-c4f4-bd81f313bb04",
        "colab": {
          "base_uri": "https://localhost:8080/",
          "height": 482
        }
      },
      "execution_count": 84,
      "outputs": [
        {
          "output_type": "display_data",
          "data": {
            "text/plain": [
              "<Figure size 640x480 with 1 Axes>"
            ],
            "image/png": "[encoded data removed]"
          },
          "metadata": {}
        },
        {
          "output_type": "stream",
          "name": "stdout",
          "text": [
            "313/313 [==============================] - 1s 2ms/step\n",
            "[1.4469516e-07 9.9932462e-01 3.6794314e-04 6.4895544e-06 1.5377345e-05\n",
            " 2.1880919e-06 3.1740360e-06 2.2221426e-04 5.7618181e-05 1.0787322e-07]\n"
          ]
        }
      ]
    },
    {
      "cell_type": "code",
      "source": [
        "prediction = np.array(classification[val])\n",
        "# print(prediction)\n",
        "for i in prediction:\n",
        "  print(f\"{i}\\n\")"
      ],
      "metadata": {
        "id": "WxqJ2fdANKm4",
        "outputId": "61540044-8f13-4f36-8836-ceda558311fc",
        "colab": {
          "base_uri": "https://localhost:8080/"
        }
      },
      "execution_count": 87,
      "outputs": [
        {
          "output_type": "stream",
          "name": "stdout",
          "text": [
            "1.4469516429471696e-07\n",
            "\n",
            "0.99932461977005\n",
            "\n",
            "0.0003679431392811239\n",
            "\n",
            "6.489554380095797e-06\n",
            "\n",
            "1.5377345334854908e-05\n",
            "\n",
            "2.1880919121031184e-06\n",
            "\n",
            "3.1740360100229736e-06\n",
            "\n",
            "0.00022221426479518414\n",
            "\n",
            "5.76181810174603e-05\n",
            "\n",
            "1.0787321969019104e-07\n",
            "\n"
          ]
        }
      ]
    }
  ]
}