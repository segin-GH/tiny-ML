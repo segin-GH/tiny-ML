{
  "nbformat": 4,
  "nbformat_minor": 0,
  "metadata": {
    "colab": {
      "provenance": [],
      "authorship_tag": "ABX9TyMHFFeLgIEPTYsZD9tNeRb3",
      "include_colab_link": true
    },
    "kernelspec": {
      "name": "python3",
      "display_name": "Python 3"
    },
    "language_info": {
      "name": "python"
    }
  },
  "cells": [
    {
      "cell_type": "markdown",
      "metadata": {
        "id": "view-in-github",
        "colab_type": "text"
      },
      "source": [
        "<a href=\"https://colab.research.google.com/github/segin-GH/tiny-ML/blob/main/exploring_loss.ipynb\" target=\"_parent\"><img src=\"https://colab.research.google.com/assets/colab-badge.svg\" alt=\"Open In Colab\"/></a>"
      ]
    },
    {
      "cell_type": "code",
      "execution_count": 68,
      "metadata": {
        "id": "czd3Es8ysrt_"
      },
      "outputs": [],
      "source": [
        "import math"
      ]
    },
    {
      "cell_type": "markdown",
      "source": [],
      "metadata": {
        "id": "3CZg4qWovBAk"
      }
    },
    {
      "cell_type": "code",
      "source": [
        "# Need to find relation between x and y\n",
        "\n",
        "x = [-1, 0, 1, 2, 3, 4]\n",
        "y = [-3, -1, 1, 3, 5, 7]"
      ],
      "metadata": {
        "id": "Cj67wgwluKmx"
      },
      "execution_count": 69,
      "outputs": []
    },
    {
      "cell_type": "code",
      "source": [
        "# Your y will be calculated as y=w*x+b\n",
        "\n",
        "w = 2\n",
        "b = -1"
      ],
      "metadata": {
        "id": "QVLcOebrvMZ_"
      },
      "execution_count": 70,
      "outputs": []
    },
    {
      "cell_type": "code",
      "source": [
        "cal_y = []\n",
        "\n",
        "# looping through the x and calculating each_y\n",
        "for each_x in x:\n",
        "  each_y = (w * each_x )+b\n",
        "  cal_y.append(each_y)\n",
        "\n",
        "print(\"Calculated Y is :-\"+ str(cal_y) )\n",
        "print(\"Real Y is       :-\"+ str(y))\n"
      ],
      "metadata": {
        "colab": {
          "base_uri": "https://localhost:8080/"
        },
        "id": "rxSXWpp6xbus",
        "outputId": "7c706fa8-abc4-440d-8a33-70f8115bedd6"
      },
      "execution_count": 71,
      "outputs": [
        {
          "output_type": "stream",
          "name": "stdout",
          "text": [
            "Calculated Y is :-[-3, -1, 1, 3, 5, 7]\n",
            "Real Y is       :-[-3, -1, 1, 3, 5, 7]\n"
          ]
        }
      ]
    },
    {
      "cell_type": "code",
      "source": [
        "# Calculating the loss\n",
        "\n",
        "total_square_error = 0\n",
        "for i in range(0, len(y)):\n",
        "  square_error = (y[i] - cal_y[i]) ** 2\n",
        "  total_square_error += square_error\n",
        "\n",
        "print(\"Total sqr is: \" + str(total_square_error))\n",
        "print(\"My Loss is: \" + str(math.sqrt(total_square_error)))"
      ],
      "metadata": {
        "colab": {
          "base_uri": "https://localhost:8080/"
        },
        "id": "_c8ODtfQyuKX",
        "outputId": "be9f645f-324e-4632-c067-696800b3da8d"
      },
      "execution_count": 72,
      "outputs": [
        {
          "output_type": "stream",
          "name": "stdout",
          "text": [
            "Total sqr is: 0\n",
            "My Loss is: 0.0\n"
          ]
        }
      ]
    }
  ]
}