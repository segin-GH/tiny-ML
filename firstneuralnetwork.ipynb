{
  "nbformat": 4,
  "nbformat_minor": 0,
  "metadata": {
    "colab": {
      "provenance": [],
      "authorship_tag": "ABX9TyOtwKzof5CCeuCTVWRhpL9b",
      "include_colab_link": true
    },
    "kernelspec": {
      "name": "python3",
      "display_name": "Python 3"
    },
    "language_info": {
      "name": "python"
    }
  },
  "cells": [
    {
      "cell_type": "markdown",
      "metadata": {
        "id": "view-in-github",
        "colab_type": "text"
      },
      "source": [
        "<a href=\"https://colab.research.google.com/github/segin-GH/tiny-ML/blob/main/firstneuralnetwork.ipynb\" target=\"_parent\"><img src=\"https://colab.research.google.com/assets/colab-badge.svg\" alt=\"Open In Colab\"/></a>"
      ]
    },
    {
      "cell_type": "code",
      "execution_count": null,
      "metadata": {
        "id": "TOHDzGtWz8K8"
      },
      "outputs": [],
      "source": [
        "import tensorflow as tf\n",
        "import numpy as np\n",
        "from tensorflow import keras"
      ]
    },
    {
      "cell_type": "code",
      "source": [
        "# define a neural network with one neuron\n",
        "# for more information on TF functions see: https://www.tensorflow.org/api_docs\n",
        "model = tf.keras.Sequential([keras.layers.Dense(units=1, input_shape=[1])])\n",
        "\n",
        "# use stochastic gradient descent for optimization and\n",
        "# the mean squared error loss function\n",
        "model.compile(optimizer='sgd', loss='mean_squared_error')\n",
        "\n",
        "# define some training data (xs as inputs and ys as outputs)\n",
        "xs = np.array([-1.0,  0.0, 1.0, 2.0, 3.0, 4.0], dtype=float)\n",
        "ys = np.array([-3.0, -1.0, 1.0, 3.0, 5.0, 7.0], dtype=float)\n",
        "\n",
        "# fit the model to the data (aka train the model)\n",
        "model.fit(xs, ys, epochs=500)"
      ],
      "metadata": {
        "id": "FCp9a1E20bKt"
      },
      "execution_count": null,
      "outputs": []
    },
    {
      "cell_type": "code",
      "source": [
        "print(model.predict([10]))"
      ],
      "metadata": {
        "id": "2ME3sMzK0toz"
      },
      "execution_count": null,
      "outputs": []
    }
  ]
}