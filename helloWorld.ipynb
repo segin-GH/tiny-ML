{
  "nbformat": 4,
  "nbformat_minor": 0,
  "metadata": {
    "colab": {
      "provenance": [],
      "authorship_tag": "ABX9TyNj3JilfkRsYVae1FK7BCgs"
    },
    "kernelspec": {
      "name": "python3",
      "display_name": "Python 3"
    },
    "language_info": {
      "name": "python"
    }
  },
  "cells": [
    {
      "cell_type": "code",
      "execution_count": null,
      "metadata": {
        "colab": {
          "base_uri": "https://localhost:8080/"
        },
        "id": "t7ImjBrKPANw",
        "outputId": "6672441e-05d2-4e32-875e-7684f1fd7c87"
      },
      "outputs": [
        {
          "output_type": "stream",
          "name": "stdout",
          "text": [
            "hello world\n"
          ]
        }
      ],
      "source": [
        "print (\"hello world.\")"
      ]
    },
    {
      "cell_type": "code",
      "source": [
        "print (\"Hello again\")"
      ],
      "metadata": {
        "colab": {
          "base_uri": "https://localhost:8080/"
        },
        "id": "snA0fFxoRclY",
        "outputId": "af7d535d-7b02-46e1-c432-b78be2447965"
      },
      "execution_count": null,
      "outputs": [
        {
          "output_type": "stream",
          "name": "stdout",
          "text": [
            "Hello again\n"
          ]
        }
      ]
    },
    {
      "cell_type": "markdown",
      "source": [
        "just testing gc"
      ],
      "metadata": {
        "id": "WDPaD2TvT8Ym"
      }
    }
  ]
}