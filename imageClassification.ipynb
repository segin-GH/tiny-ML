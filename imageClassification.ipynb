{
  "nbformat": 4,
  "nbformat_minor": 0,
  "metadata": {
    "colab": {
      "provenance": [],
      "authorship_tag": "ABX9TyPglnyd2YG2W1kTqMJjLFKY",
      "include_colab_link": true
    },
    "kernelspec": {
      "name": "python3",
      "display_name": "Python 3"
    },
    "language_info": {
      "name": "python"
    }
  },
  "cells": [
    {
      "cell_type": "markdown",
      "metadata": {
        "id": "view-in-github",
        "colab_type": "text"
      },
      "source": [
        "<a href=\"https://colab.research.google.com/github/segin-GH/tiny-ML/blob/main/imageClassification.ipynb\" target=\"_parent\"><img src=\"https://colab.research.google.com/assets/colab-badge.svg\" alt=\"Open In Colab\"/></a>"
      ]
    },
    {
      "cell_type": "code",
      "execution_count": 11,
      "metadata": {
        "id": "HXjSkTDy7ZTO"
      },
      "outputs": [],
      "source": [
        "import tensorflow as tf\n",
        "import matplotlib.pyplot as plt\n",
        "from time import sleep"
      ]
    },
    {
      "cell_type": "code",
      "source": [
        "data = tf.keras.datasets.mnist\n",
        "(training_images, training_labels),(val_images, val_labels) = data.load_data() "
      ],
      "metadata": {
        "id": "K6DQa9U18PPs"
      },
      "execution_count": 12,
      "outputs": []
    },
    {
      "cell_type": "code",
      "source": [
        "# the handwriting images are 28 x 28 monochrome which means each pixel \n",
        "#   value is 0 tp 255 we want to reduce that so we divide each pixel with 225/\n",
        "\n",
        "training_images = training_images/255.0\n",
        "val_images = val_images/225.0"
      ],
      "metadata": {
        "id": "uxvOaBcKBRGl"
      },
      "execution_count": 13,
      "outputs": []
    },
    {
      "cell_type": "code",
      "source": [
        "# Just visualizing dataset out of curiosity\n",
        "\n",
        "# for i in range(10):\n",
        "  # print(training_labels[i])\n",
        "  # plt.imshow(training_images[i], cmap='gray')\n",
        "  # plt.show()\n",
        "  # sleep(.1)"
      ],
      "metadata": {
        "id": "iKxgkUDD_hkm"
      },
      "execution_count": 14,
      "outputs": []
    },
    {
      "cell_type": "code",
      "source": [
        "from keras.api._v2.keras import activations\n",
        "model = tf.keras.models.Sequential(\n",
        "    [tf.keras.layers.Flatten(input_shape=(28,28)), # Flattens the input image to 28*28=784\n",
        "     tf.keras.layers.Dense(20, activation=tf.nn.relu),\n",
        "     tf.keras.layers.Dense(10, activation=tf.nn.softmax )])"
      ],
      "metadata": {
        "id": "yqVf8XUTGRJv"
      },
      "execution_count": 15,
      "outputs": []
    },
    {
      "cell_type": "code",
      "source": [],
      "metadata": {
        "id": "6ZpnF7C1IGa9"
      },
      "execution_count": 15,
      "outputs": []
    }
  ]
}